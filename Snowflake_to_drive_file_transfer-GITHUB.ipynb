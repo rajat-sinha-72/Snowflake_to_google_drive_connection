{
 "cells": [
  {
   "cell_type": "code",
   "execution_count": 1,
   "metadata": {},
   "outputs": [],
   "source": [
    "import sys\n",
    "#!{sys.executable} -m pip install snowflake-sqlalchemy\n",
    "#!{sys.executable} -m pip install snowflake-connector-python"
   ]
  },
  {
   "cell_type": "code",
   "execution_count": 21,
   "metadata": {},
   "outputs": [
    {
     "name": "stdout",
     "output_type": "stream",
     "text": [
      "Done\n"
     ]
    }
   ],
   "source": [
    "import pandas as pd\n",
    "import numpy as np\n",
    "import snowflake.connector\n",
    "import time\n",
    "import datetime\n",
    "\n",
    "import snowflake.sqlalchemy\n",
    "\n",
    "import json\n",
    "import requests\n",
    "\n",
    "from snowflake.sqlalchemy import URL\n",
    "from sqlalchemy import create_engine\n",
    "print(\"Done\")  "
   ]
  },
  {
   "cell_type": "code",
   "execution_count": 3,
   "metadata": {},
   "outputs": [
    {
     "name": "stdout",
     "output_type": "stream",
     "text": [
      "Initiating login request with your identity provider. A browser window should have opened for you to complete the login. If you can't see it, check existing browser windows, or your OS settings. Press CTRL+C to abort and try again...\n"
     ]
    }
   ],
   "source": [
    "engine = create_engine(URL(\n",
    "    user='your email address',\n",
    "    password = 'email password',\n",
    "    account='link to snowflake account',\n",
    "    authenticator='externalbrowser',\n",
    "    role = 'XXXX',\n",
    "    warehouse = 'XXXX',\n",
    "    database='XXXX',\n",
    "    schema='XXXX'\n",
    "))\n",
    "\n",
    "con3 = engine.connect()"
   ]
  },
  {
   "cell_type": "code",
   "execution_count": 45,
   "metadata": {},
   "outputs": [],
   "source": [
    "d = con3.execute(\"Select * from XXXX limit 100\")\n"
   ]
  },
  {
   "cell_type": "code",
   "execution_count": 1,
   "metadata": {},
   "outputs": [],
   "source": [
    "#print(pd.DataFrame(d))"
   ]
  },
  {
   "cell_type": "code",
   "execution_count": 2,
   "metadata": {},
   "outputs": [
    {
     "ename": "NameError",
     "evalue": "name 'pd' is not defined",
     "output_type": "error",
     "traceback": [
      "\u001b[1;31m---------------------------------------------------------------------------\u001b[0m",
      "\u001b[1;31mNameError\u001b[0m                                 Traceback (most recent call last)",
      "\u001b[1;32m<ipython-input-2-9139195b3837>\u001b[0m in \u001b[0;36m<module>\u001b[1;34m\u001b[0m\n\u001b[1;32m----> 1\u001b[1;33m \u001b[0mt\u001b[0m \u001b[1;33m=\u001b[0m \u001b[0mpd\u001b[0m\u001b[1;33m.\u001b[0m\u001b[0mDataFrame\u001b[0m\u001b[1;33m(\u001b[0m\u001b[0md\u001b[0m\u001b[1;33m)\u001b[0m\u001b[1;33m\u001b[0m\u001b[1;33m\u001b[0m\u001b[0m\n\u001b[0m\u001b[0;32m      2\u001b[0m \u001b[0mprint\u001b[0m\u001b[1;33m(\u001b[0m\u001b[0mt\u001b[0m\u001b[1;33m)\u001b[0m\u001b[1;33m\u001b[0m\u001b[1;33m\u001b[0m\u001b[0m\n",
      "\u001b[1;31mNameError\u001b[0m: name 'pd' is not defined"
     ]
    }
   ],
   "source": [
    "t = pd.DataFrame(d)\n",
    "print(t)"
   ]
  },
  {
   "cell_type": "code",
   "execution_count": 48,
   "metadata": {},
   "outputs": [],
   "source": [
    "t.to_csv('forecasting.csv')"
   ]
  },
  {
   "cell_type": "code",
   "execution_count": 49,
   "metadata": {},
   "outputs": [
    {
     "name": "stdout",
     "output_type": "stream",
     "text": [
      "{\n",
      " \"kind\": \"drive#file\",\n",
      " \"id\": \"1TX3gNWxcjiUXNTVs7Y2bKk29RAuZDK_3\",\n",
      " \"name\": \"forecasting.csv\",\n",
      " \"mimeType\": \"text/csv\"\n",
      "}\n",
      "\n"
     ]
    }
   ],
   "source": [
    "headers = {\"Authorization\": \"Bearer XXXX\"} \n",
    "para = {\n",
    "    \"name\": \"forecasting.csv\", \n",
    "    \"parents\": [\"XXXX\"] \n",
    "}\n",
    "files = {\n",
    "    'data': ('metadata', json.dumps(para), 'application/json; charset=UTF-8'),\n",
    "    'file': ('text/csv', open(\"C:/Users/rajat.sinha/Downloads/forecasting.csv\", \"rb\"))\n",
    "}\n",
    "r = requests.post(\n",
    "    \"https://www.googleapis.com/upload/drive/v3/files?uploadType=multipart\",\n",
    "    headers=headers,\n",
    "    files=files\n",
    ")\n",
    "print(r.text)"
   ]
  }
 ],
 "metadata": {
  "kernelspec": {
   "display_name": "Python 3",
   "language": "python",
   "name": "python3"
  },
  "language_info": {
   "codemirror_mode": {
    "name": "ipython",
    "version": 3
   },
   "file_extension": ".py",
   "mimetype": "text/x-python",
   "name": "python",
   "nbconvert_exporter": "python",
   "pygments_lexer": "ipython3",
   "version": "3.7.4"
  }
 },
 "nbformat": 4,
 "nbformat_minor": 4
}
